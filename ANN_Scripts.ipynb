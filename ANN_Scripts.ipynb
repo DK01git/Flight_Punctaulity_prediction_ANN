{
 "cells": [
  {
   "cell_type": "code",
   "execution_count": 1,
   "metadata": {},
   "outputs": [
    {
     "name": "stderr",
     "output_type": "stream",
     "text": [
      "C:\\Users\\dkout\\AppData\\Local\\Temp\\ipykernel_5912\\4267910396.py:1: DeprecationWarning: \n",
      "Pyarrow will become a required dependency of pandas in the next major release of pandas (pandas 3.0),\n",
      "(to allow more performant data types, such as the Arrow string type, and better interoperability with other libraries)\n",
      "but was not found to be installed on your system.\n",
      "If this would cause problems for you,\n",
      "please provide us feedback at https://github.com/pandas-dev/pandas/issues/54466\n",
      "        \n",
      "  import pandas as pd\n"
     ]
    },
    {
     "name": "stdout",
     "output_type": "stream",
     "text": [
      "WARNING:tensorflow:From d:\\5th sem\\DeepLearnig\\ANN_two\\atemp1\\lib\\site-packages\\keras\\src\\losses.py:2976: The name tf.losses.sparse_softmax_cross_entropy is deprecated. Please use tf.compat.v1.losses.sparse_softmax_cross_entropy instead.\n",
      "\n"
     ]
    }
   ],
   "source": [
    "import pandas as pd \n",
    "import numpy as np\n",
    "import matplotlib.pyplot as plt\n",
    "from sklearn.metrics import mean_squared_error,mean_absolute_error\n",
    "from sklearn.model_selection import train_test_split\n",
    "from sklearn.linear_model import LinearRegression\n",
    "import tensorflow as tf \n"
   ]
  },
  {
   "cell_type": "code",
   "execution_count": 2,
   "metadata": {},
   "outputs": [],
   "source": [
    "#standardization of data\n",
    "from sklearn.preprocessing import StandardScaler\n",
    "predictorScaler = StandardScaler()\n",
    "targetScaler = StandardScaler()\n"
   ]
  },
  {
   "cell_type": "code",
   "execution_count": 3,
   "metadata": {},
   "outputs": [],
   "source": [
    "# Load the data\n",
    "df = pd.read_csv('Made2.csv')\n"
   ]
  },
  {
   "cell_type": "code",
   "execution_count": 4,
   "metadata": {},
   "outputs": [],
   "source": [
    "#remove origin_destination_country\n",
    "\n",
    "df = df.drop(['origin_destination_country'], axis=1)"
   ]
  },
  {
   "cell_type": "code",
   "execution_count": 5,
   "metadata": {},
   "outputs": [],
   "source": [
    "#select only numerics\n",
    "dfn = df.select_dtypes(include=[np.number])"
   ]
  },
  {
   "cell_type": "code",
   "execution_count": 6,
   "metadata": {},
   "outputs": [],
   "source": [
    "#convert these columns to numeric using OneHotEncoding\n",
    "#use 1,0 for True, False\n",
    "df = pd.get_dummies(df, columns=['arrival_departure','scheduled_charter'])\n",
    "\n",
    "#drop the columns that are not needed\n",
    "df = df.drop(columns=['flights_unmatched_percent', 'flights_cancelled_percent'], axis=1)"
   ]
  },
  {
   "cell_type": "code",
   "execution_count": 7,
   "metadata": {},
   "outputs": [
    {
     "name": "stderr",
     "output_type": "stream",
     "text": [
      "C:\\Users\\dkout\\AppData\\Local\\Temp\\ipykernel_5912\\2843309183.py:2: FutureWarning: Downcasting behavior in `replace` is deprecated and will be removed in a future version. To retain the old behavior, explicitly call `result.infer_objects(copy=False)`. To opt-in to the future behavior, set `pd.set_option('future.no_silent_downcasting', True)`\n",
      "  df['arrival_departure_A'] = df['arrival_departure_A'].replace({True: 1, False: 0})\n",
      "C:\\Users\\dkout\\AppData\\Local\\Temp\\ipykernel_5912\\2843309183.py:3: FutureWarning: Downcasting behavior in `replace` is deprecated and will be removed in a future version. To retain the old behavior, explicitly call `result.infer_objects(copy=False)`. To opt-in to the future behavior, set `pd.set_option('future.no_silent_downcasting', True)`\n",
      "  df['arrival_departure_D'] = df['arrival_departure_D'].replace({True: 1, False: 0})\n",
      "C:\\Users\\dkout\\AppData\\Local\\Temp\\ipykernel_5912\\2843309183.py:4: FutureWarning: Downcasting behavior in `replace` is deprecated and will be removed in a future version. To retain the old behavior, explicitly call `result.infer_objects(copy=False)`. To opt-in to the future behavior, set `pd.set_option('future.no_silent_downcasting', True)`\n",
      "  df['scheduled_charter_C'] = df['scheduled_charter_C'].replace({True: 1, False: 0})\n",
      "C:\\Users\\dkout\\AppData\\Local\\Temp\\ipykernel_5912\\2843309183.py:5: FutureWarning: Downcasting behavior in `replace` is deprecated and will be removed in a future version. To retain the old behavior, explicitly call `result.infer_objects(copy=False)`. To opt-in to the future behavior, set `pd.set_option('future.no_silent_downcasting', True)`\n",
      "  df['scheduled_charter_S'] = df['scheduled_charter_S'].replace({True: 1, False: 0})\n"
     ]
    }
   ],
   "source": [
    "#replace 1,0 for True, False for arrival_departure_D column\n",
    "df['arrival_departure_A'] = df['arrival_departure_A'].replace({True: 1, False: 0})\n",
    "df['arrival_departure_D'] = df['arrival_departure_D'].replace({True: 1, False: 0})\n",
    "df['scheduled_charter_C'] = df['scheduled_charter_C'].replace({True: 1, False: 0})\n",
    "df['scheduled_charter_S'] = df['scheduled_charter_S'].replace({True: 1, False: 0})"
   ]
  },
  {
   "cell_type": "code",
   "execution_count": 8,
   "metadata": {},
   "outputs": [
    {
     "data": {
      "text/plain": [
       "airline_name\n",
       "RYANAIR                    12472\n",
       "EASYJET UK LTD             10595\n",
       "TUI AIRWAYS LTD             8609\n",
       "BRITISH AIRWAYS PLC         6148\n",
       "JET2.COM LTD                6072\n",
       "                           ...  \n",
       "HOP - BRIT AIR                 1\n",
       "JET TIME                       1\n",
       "WORLD2FLY PORTUGAL             1\n",
       "JAZEERA AIRWAYS K.S.C.P        1\n",
       "STAR EAST AIRLINES             1\n",
       "Name: count, Length: 262, dtype: int64"
      ]
     },
     "execution_count": 8,
     "metadata": {},
     "output_type": "execute_result"
    }
   ],
   "source": [
    "#show the airlines by its count\n",
    "airlines_count = df['airline_name'].value_counts()\n",
    "\n",
    "airlines_count"
   ]
  },
  {
   "cell_type": "code",
   "execution_count": 9,
   "metadata": {},
   "outputs": [
    {
     "data": {
      "text/plain": [
       "(43896, 21)"
      ]
     },
     "execution_count": 9,
     "metadata": {},
     "output_type": "execute_result"
    }
   ],
   "source": [
    "#subset airlines that have count greater than 100\n",
    "df_100 = df[df['airline_name'].isin(airlines_count[airlines_count > 5000].index)]\n",
    "\n",
    "df_100.shape"
   ]
  },
  {
   "cell_type": "code",
   "execution_count": 10,
   "metadata": {},
   "outputs": [
    {
     "name": "stdout",
     "output_type": "stream",
     "text": [
      "(5742, 21)\n"
     ]
    }
   ],
   "source": [
    "# Remove duplicates based on the 'origin' and 'destination' and 'airline_name' columns\n",
    "df_deduped = df.drop_duplicates(subset=['reporting_airport', 'origin_destination','airline_name'])\n",
    "\n",
    "# Print the shape of the deduplicated DataFrame\n",
    "print(df_deduped.shape)"
   ]
  },
  {
   "cell_type": "code",
   "execution_count": 11,
   "metadata": {},
   "outputs": [
    {
     "name": "stderr",
     "output_type": "stream",
     "text": [
      "C:\\Users\\dkout\\AppData\\Local\\Temp\\ipykernel_5912\\323433510.py:3: SettingWithCopyWarning: \n",
      "A value is trying to be set on a copy of a slice from a DataFrame.\n",
      "Try using .loc[row_indexer,col_indexer] = value instead\n",
      "\n",
      "See the caveats in the documentation: https://pandas.pydata.org/pandas-docs/stable/user_guide/indexing.html#returning-a-view-versus-a-copy\n",
      "  df_deduped['journey'] = df_deduped['reporting_airport'] + ', ' + df_deduped['origin_destination']\n"
     ]
    }
   ],
   "source": [
    "#combine reporting_airport and origin_destination columns as Journey\n",
    "from pandas import DataFrame, merge\n",
    "df_deduped['journey'] = df_deduped['reporting_airport'] + ', ' + df_deduped['origin_destination']"
   ]
  },
  {
   "cell_type": "code",
   "execution_count": 12,
   "metadata": {},
   "outputs": [
    {
     "name": "stderr",
     "output_type": "stream",
     "text": [
      "C:\\Users\\dkout\\AppData\\Local\\Temp\\ipykernel_5912\\1541931187.py:8: SettingWithCopyWarning: \n",
      "A value is trying to be set on a copy of a slice from a DataFrame.\n",
      "Try using .loc[row_indexer,col_indexer] = value instead\n",
      "\n",
      "See the caveats in the documentation: https://pandas.pydata.org/pandas-docs/stable/user_guide/indexing.html#returning-a-view-versus-a-copy\n",
      "  df_deduped['journey'] = df_deduped['journey'].apply(remove_parentheses_contents)\n"
     ]
    }
   ],
   "source": [
    "#remove strings in the parentheses\n",
    "\n",
    "import re\n",
    "\n",
    "def remove_parentheses_contents(text):\n",
    "    return re.sub(r'\\(.*?\\)', '', text).strip().replace(',,', ',')\n",
    "\n",
    "df_deduped['journey'] = df_deduped['journey'].apply(remove_parentheses_contents)"
   ]
  },
  {
   "cell_type": "code",
   "execution_count": 13,
   "metadata": {},
   "outputs": [
    {
     "data": {
      "text/html": [
       "<div>\n",
       "<style scoped>\n",
       "    .dataframe tbody tr th:only-of-type {\n",
       "        vertical-align: middle;\n",
       "    }\n",
       "\n",
       "    .dataframe tbody tr th {\n",
       "        vertical-align: top;\n",
       "    }\n",
       "\n",
       "    .dataframe thead th {\n",
       "        text-align: right;\n",
       "    }\n",
       "</style>\n",
       "<table border=\"1\" class=\"dataframe\">\n",
       "  <thead>\n",
       "    <tr style=\"text-align: right;\">\n",
       "      <th></th>\n",
       "      <th>reporting_period</th>\n",
       "      <th>reporting_airport</th>\n",
       "      <th>origin_destination</th>\n",
       "      <th>airline_name</th>\n",
       "      <th>number_flights_matched</th>\n",
       "      <th>actual_flights_unmatched</th>\n",
       "      <th>number_flights_cancelled</th>\n",
       "      <th>flights_more_than_15_minutes_early_percent</th>\n",
       "      <th>flights_15_minutes_early_to_1_minute_early_percent</th>\n",
       "      <th>flights_0_to_15_minutes_late_percent</th>\n",
       "      <th>...</th>\n",
       "      <th>flights_between_61_and_120_minutes_late_percent</th>\n",
       "      <th>flights_between_121_and_180_minutes_late_percent</th>\n",
       "      <th>flights_between_181_and_360_minutes_late_percent</th>\n",
       "      <th>flights_more_than_360_minutes_late_percent</th>\n",
       "      <th>average_delay_mins</th>\n",
       "      <th>arrival_departure_A</th>\n",
       "      <th>arrival_departure_D</th>\n",
       "      <th>scheduled_charter_C</th>\n",
       "      <th>scheduled_charter_S</th>\n",
       "      <th>journey</th>\n",
       "    </tr>\n",
       "  </thead>\n",
       "  <tbody>\n",
       "    <tr>\n",
       "      <th>0</th>\n",
       "      <td>202201</td>\n",
       "      <td>ABERDEEN</td>\n",
       "      <td>GDANSK</td>\n",
       "      <td>WIZZ AIR</td>\n",
       "      <td>4</td>\n",
       "      <td>0</td>\n",
       "      <td>0</td>\n",
       "      <td>0.000000</td>\n",
       "      <td>25.000000</td>\n",
       "      <td>0.000000</td>\n",
       "      <td>...</td>\n",
       "      <td>0.000000</td>\n",
       "      <td>0.000000</td>\n",
       "      <td>0.000000</td>\n",
       "      <td>0.0</td>\n",
       "      <td>19.0</td>\n",
       "      <td>0</td>\n",
       "      <td>1</td>\n",
       "      <td>0</td>\n",
       "      <td>1</td>\n",
       "      <td>ABERDEEN, GDANSK</td>\n",
       "    </tr>\n",
       "    <tr>\n",
       "      <th>1</th>\n",
       "      <td>202201</td>\n",
       "      <td>ABERDEEN</td>\n",
       "      <td>BELFAST CITY (GEORGE BEST)</td>\n",
       "      <td>LOGANAIR LTD</td>\n",
       "      <td>17</td>\n",
       "      <td>0</td>\n",
       "      <td>0</td>\n",
       "      <td>17.647059</td>\n",
       "      <td>35.294118</td>\n",
       "      <td>23.529412</td>\n",
       "      <td>...</td>\n",
       "      <td>0.000000</td>\n",
       "      <td>11.764706</td>\n",
       "      <td>0.000000</td>\n",
       "      <td>0.0</td>\n",
       "      <td>22.0</td>\n",
       "      <td>1</td>\n",
       "      <td>0</td>\n",
       "      <td>0</td>\n",
       "      <td>1</td>\n",
       "      <td>ABERDEEN, BELFAST CITY</td>\n",
       "    </tr>\n",
       "    <tr>\n",
       "      <th>3</th>\n",
       "      <td>202201</td>\n",
       "      <td>ABERDEEN</td>\n",
       "      <td>SUMBURGH</td>\n",
       "      <td>LOGANAIR LTD</td>\n",
       "      <td>56</td>\n",
       "      <td>0</td>\n",
       "      <td>3</td>\n",
       "      <td>15.254237</td>\n",
       "      <td>25.423729</td>\n",
       "      <td>25.423729</td>\n",
       "      <td>...</td>\n",
       "      <td>6.779661</td>\n",
       "      <td>3.389831</td>\n",
       "      <td>1.694915</td>\n",
       "      <td>0.0</td>\n",
       "      <td>23.0</td>\n",
       "      <td>1</td>\n",
       "      <td>0</td>\n",
       "      <td>0</td>\n",
       "      <td>1</td>\n",
       "      <td>ABERDEEN, SUMBURGH</td>\n",
       "    </tr>\n",
       "    <tr>\n",
       "      <th>4</th>\n",
       "      <td>202201</td>\n",
       "      <td>ABERDEEN</td>\n",
       "      <td>TENERIFE (SURREINA SOFIA)</td>\n",
       "      <td>TUI AIRWAYS LTD</td>\n",
       "      <td>9</td>\n",
       "      <td>0</td>\n",
       "      <td>0</td>\n",
       "      <td>0.000000</td>\n",
       "      <td>44.444444</td>\n",
       "      <td>33.333333</td>\n",
       "      <td>...</td>\n",
       "      <td>0.000000</td>\n",
       "      <td>11.111111</td>\n",
       "      <td>0.000000</td>\n",
       "      <td>0.0</td>\n",
       "      <td>22.0</td>\n",
       "      <td>0</td>\n",
       "      <td>1</td>\n",
       "      <td>1</td>\n",
       "      <td>0</td>\n",
       "      <td>ABERDEEN, TENERIFE</td>\n",
       "    </tr>\n",
       "    <tr>\n",
       "      <th>5</th>\n",
       "      <td>202201</td>\n",
       "      <td>ABERDEEN</td>\n",
       "      <td>GENEVA</td>\n",
       "      <td>EASYJET UK LTD</td>\n",
       "      <td>5</td>\n",
       "      <td>0</td>\n",
       "      <td>0</td>\n",
       "      <td>0.000000</td>\n",
       "      <td>40.000000</td>\n",
       "      <td>20.000000</td>\n",
       "      <td>...</td>\n",
       "      <td>0.000000</td>\n",
       "      <td>0.000000</td>\n",
       "      <td>0.000000</td>\n",
       "      <td>0.0</td>\n",
       "      <td>18.0</td>\n",
       "      <td>0</td>\n",
       "      <td>1</td>\n",
       "      <td>0</td>\n",
       "      <td>1</td>\n",
       "      <td>ABERDEEN, GENEVA</td>\n",
       "    </tr>\n",
       "  </tbody>\n",
       "</table>\n",
       "<p>5 rows × 22 columns</p>\n",
       "</div>"
      ],
      "text/plain": [
       "   reporting_period reporting_airport          origin_destination  \\\n",
       "0            202201          ABERDEEN                      GDANSK   \n",
       "1            202201          ABERDEEN  BELFAST CITY (GEORGE BEST)   \n",
       "3            202201          ABERDEEN                    SUMBURGH   \n",
       "4            202201          ABERDEEN   TENERIFE (SURREINA SOFIA)   \n",
       "5            202201          ABERDEEN                      GENEVA   \n",
       "\n",
       "      airline_name  number_flights_matched  actual_flights_unmatched  \\\n",
       "0         WIZZ AIR                       4                         0   \n",
       "1     LOGANAIR LTD                      17                         0   \n",
       "3     LOGANAIR LTD                      56                         0   \n",
       "4  TUI AIRWAYS LTD                       9                         0   \n",
       "5   EASYJET UK LTD                       5                         0   \n",
       "\n",
       "   number_flights_cancelled  flights_more_than_15_minutes_early_percent  \\\n",
       "0                         0                                    0.000000   \n",
       "1                         0                                   17.647059   \n",
       "3                         3                                   15.254237   \n",
       "4                         0                                    0.000000   \n",
       "5                         0                                    0.000000   \n",
       "\n",
       "   flights_15_minutes_early_to_1_minute_early_percent  \\\n",
       "0                                          25.000000    \n",
       "1                                          35.294118    \n",
       "3                                          25.423729    \n",
       "4                                          44.444444    \n",
       "5                                          40.000000    \n",
       "\n",
       "   flights_0_to_15_minutes_late_percent  ...  \\\n",
       "0                              0.000000  ...   \n",
       "1                             23.529412  ...   \n",
       "3                             25.423729  ...   \n",
       "4                             33.333333  ...   \n",
       "5                             20.000000  ...   \n",
       "\n",
       "   flights_between_61_and_120_minutes_late_percent  \\\n",
       "0                                         0.000000   \n",
       "1                                         0.000000   \n",
       "3                                         6.779661   \n",
       "4                                         0.000000   \n",
       "5                                         0.000000   \n",
       "\n",
       "   flights_between_121_and_180_minutes_late_percent  \\\n",
       "0                                          0.000000   \n",
       "1                                         11.764706   \n",
       "3                                          3.389831   \n",
       "4                                         11.111111   \n",
       "5                                          0.000000   \n",
       "\n",
       "   flights_between_181_and_360_minutes_late_percent  \\\n",
       "0                                          0.000000   \n",
       "1                                          0.000000   \n",
       "3                                          1.694915   \n",
       "4                                          0.000000   \n",
       "5                                          0.000000   \n",
       "\n",
       "   flights_more_than_360_minutes_late_percent  average_delay_mins  \\\n",
       "0                                         0.0                19.0   \n",
       "1                                         0.0                22.0   \n",
       "3                                         0.0                23.0   \n",
       "4                                         0.0                22.0   \n",
       "5                                         0.0                18.0   \n",
       "\n",
       "   arrival_departure_A  arrival_departure_D  scheduled_charter_C  \\\n",
       "0                    0                    1                    0   \n",
       "1                    1                    0                    0   \n",
       "3                    1                    0                    0   \n",
       "4                    0                    1                    1   \n",
       "5                    0                    1                    0   \n",
       "\n",
       "   scheduled_charter_S                 journey  \n",
       "0                    1        ABERDEEN, GDANSK  \n",
       "1                    1  ABERDEEN, BELFAST CITY  \n",
       "3                    1      ABERDEEN, SUMBURGH  \n",
       "4                    0      ABERDEEN, TENERIFE  \n",
       "5                    1        ABERDEEN, GENEVA  \n",
       "\n",
       "[5 rows x 22 columns]"
      ]
     },
     "execution_count": 13,
     "metadata": {},
     "output_type": "execute_result"
    }
   ],
   "source": [
    "df_deduped.head()"
   ]
  },
  {
   "cell_type": "code",
   "execution_count": 14,
   "metadata": {},
   "outputs": [],
   "source": [
    "#remove the columns that are not needed\n",
    "df_deduped = df_deduped.drop(['reporting_airport','origin_destination'], axis=1)"
   ]
  },
  {
   "cell_type": "code",
   "execution_count": 15,
   "metadata": {},
   "outputs": [
    {
     "data": {
      "text/html": [
       "<div>\n",
       "<style scoped>\n",
       "    .dataframe tbody tr th:only-of-type {\n",
       "        vertical-align: middle;\n",
       "    }\n",
       "\n",
       "    .dataframe tbody tr th {\n",
       "        vertical-align: top;\n",
       "    }\n",
       "\n",
       "    .dataframe thead th {\n",
       "        text-align: right;\n",
       "    }\n",
       "</style>\n",
       "<table border=\"1\" class=\"dataframe\">\n",
       "  <thead>\n",
       "    <tr style=\"text-align: right;\">\n",
       "      <th></th>\n",
       "      <th>reporting_period</th>\n",
       "      <th>number_flights_matched</th>\n",
       "      <th>actual_flights_unmatched</th>\n",
       "      <th>number_flights_cancelled</th>\n",
       "      <th>flights_more_than_15_minutes_early_percent</th>\n",
       "      <th>flights_15_minutes_early_to_1_minute_early_percent</th>\n",
       "      <th>flights_0_to_15_minutes_late_percent</th>\n",
       "      <th>flights_between_16_and_30_minutes_late_percent</th>\n",
       "      <th>flights_between_31_and_60_minutes_late_percent</th>\n",
       "      <th>flights_between_61_and_120_minutes_late_percent</th>\n",
       "      <th>flights_between_121_and_180_minutes_late_percent</th>\n",
       "      <th>flights_between_181_and_360_minutes_late_percent</th>\n",
       "      <th>flights_more_than_360_minutes_late_percent</th>\n",
       "      <th>average_delay_mins</th>\n",
       "      <th>arrival_departure_A</th>\n",
       "      <th>arrival_departure_D</th>\n",
       "      <th>scheduled_charter_C</th>\n",
       "      <th>scheduled_charter_S</th>\n",
       "    </tr>\n",
       "  </thead>\n",
       "  <tbody>\n",
       "    <tr>\n",
       "      <th>0</th>\n",
       "      <td>202201</td>\n",
       "      <td>4</td>\n",
       "      <td>0</td>\n",
       "      <td>0</td>\n",
       "      <td>0.000000</td>\n",
       "      <td>25.000000</td>\n",
       "      <td>0.000000</td>\n",
       "      <td>50.000000</td>\n",
       "      <td>25.000000</td>\n",
       "      <td>0.000000</td>\n",
       "      <td>0.000000</td>\n",
       "      <td>0.000000</td>\n",
       "      <td>0.0</td>\n",
       "      <td>19.0</td>\n",
       "      <td>0</td>\n",
       "      <td>1</td>\n",
       "      <td>0</td>\n",
       "      <td>1</td>\n",
       "    </tr>\n",
       "    <tr>\n",
       "      <th>1</th>\n",
       "      <td>202201</td>\n",
       "      <td>17</td>\n",
       "      <td>0</td>\n",
       "      <td>0</td>\n",
       "      <td>17.647059</td>\n",
       "      <td>35.294118</td>\n",
       "      <td>23.529412</td>\n",
       "      <td>5.882353</td>\n",
       "      <td>5.882353</td>\n",
       "      <td>0.000000</td>\n",
       "      <td>11.764706</td>\n",
       "      <td>0.000000</td>\n",
       "      <td>0.0</td>\n",
       "      <td>22.0</td>\n",
       "      <td>1</td>\n",
       "      <td>0</td>\n",
       "      <td>0</td>\n",
       "      <td>1</td>\n",
       "    </tr>\n",
       "    <tr>\n",
       "      <th>3</th>\n",
       "      <td>202201</td>\n",
       "      <td>56</td>\n",
       "      <td>0</td>\n",
       "      <td>3</td>\n",
       "      <td>15.254237</td>\n",
       "      <td>25.423729</td>\n",
       "      <td>25.423729</td>\n",
       "      <td>6.779661</td>\n",
       "      <td>10.169492</td>\n",
       "      <td>6.779661</td>\n",
       "      <td>3.389831</td>\n",
       "      <td>1.694915</td>\n",
       "      <td>0.0</td>\n",
       "      <td>23.0</td>\n",
       "      <td>1</td>\n",
       "      <td>0</td>\n",
       "      <td>0</td>\n",
       "      <td>1</td>\n",
       "    </tr>\n",
       "    <tr>\n",
       "      <th>4</th>\n",
       "      <td>202201</td>\n",
       "      <td>9</td>\n",
       "      <td>0</td>\n",
       "      <td>0</td>\n",
       "      <td>0.000000</td>\n",
       "      <td>44.444444</td>\n",
       "      <td>33.333333</td>\n",
       "      <td>0.000000</td>\n",
       "      <td>11.111111</td>\n",
       "      <td>0.000000</td>\n",
       "      <td>11.111111</td>\n",
       "      <td>0.000000</td>\n",
       "      <td>0.0</td>\n",
       "      <td>22.0</td>\n",
       "      <td>0</td>\n",
       "      <td>1</td>\n",
       "      <td>1</td>\n",
       "      <td>0</td>\n",
       "    </tr>\n",
       "    <tr>\n",
       "      <th>5</th>\n",
       "      <td>202201</td>\n",
       "      <td>5</td>\n",
       "      <td>0</td>\n",
       "      <td>0</td>\n",
       "      <td>0.000000</td>\n",
       "      <td>40.000000</td>\n",
       "      <td>20.000000</td>\n",
       "      <td>20.000000</td>\n",
       "      <td>20.000000</td>\n",
       "      <td>0.000000</td>\n",
       "      <td>0.000000</td>\n",
       "      <td>0.000000</td>\n",
       "      <td>0.0</td>\n",
       "      <td>18.0</td>\n",
       "      <td>0</td>\n",
       "      <td>1</td>\n",
       "      <td>0</td>\n",
       "      <td>1</td>\n",
       "    </tr>\n",
       "  </tbody>\n",
       "</table>\n",
       "</div>"
      ],
      "text/plain": [
       "   reporting_period  number_flights_matched  actual_flights_unmatched  \\\n",
       "0            202201                       4                         0   \n",
       "1            202201                      17                         0   \n",
       "3            202201                      56                         0   \n",
       "4            202201                       9                         0   \n",
       "5            202201                       5                         0   \n",
       "\n",
       "   number_flights_cancelled  flights_more_than_15_minutes_early_percent  \\\n",
       "0                         0                                    0.000000   \n",
       "1                         0                                   17.647059   \n",
       "3                         3                                   15.254237   \n",
       "4                         0                                    0.000000   \n",
       "5                         0                                    0.000000   \n",
       "\n",
       "   flights_15_minutes_early_to_1_minute_early_percent  \\\n",
       "0                                          25.000000    \n",
       "1                                          35.294118    \n",
       "3                                          25.423729    \n",
       "4                                          44.444444    \n",
       "5                                          40.000000    \n",
       "\n",
       "   flights_0_to_15_minutes_late_percent  \\\n",
       "0                              0.000000   \n",
       "1                             23.529412   \n",
       "3                             25.423729   \n",
       "4                             33.333333   \n",
       "5                             20.000000   \n",
       "\n",
       "   flights_between_16_and_30_minutes_late_percent  \\\n",
       "0                                       50.000000   \n",
       "1                                        5.882353   \n",
       "3                                        6.779661   \n",
       "4                                        0.000000   \n",
       "5                                       20.000000   \n",
       "\n",
       "   flights_between_31_and_60_minutes_late_percent  \\\n",
       "0                                       25.000000   \n",
       "1                                        5.882353   \n",
       "3                                       10.169492   \n",
       "4                                       11.111111   \n",
       "5                                       20.000000   \n",
       "\n",
       "   flights_between_61_and_120_minutes_late_percent  \\\n",
       "0                                         0.000000   \n",
       "1                                         0.000000   \n",
       "3                                         6.779661   \n",
       "4                                         0.000000   \n",
       "5                                         0.000000   \n",
       "\n",
       "   flights_between_121_and_180_minutes_late_percent  \\\n",
       "0                                          0.000000   \n",
       "1                                         11.764706   \n",
       "3                                          3.389831   \n",
       "4                                         11.111111   \n",
       "5                                          0.000000   \n",
       "\n",
       "   flights_between_181_and_360_minutes_late_percent  \\\n",
       "0                                          0.000000   \n",
       "1                                          0.000000   \n",
       "3                                          1.694915   \n",
       "4                                          0.000000   \n",
       "5                                          0.000000   \n",
       "\n",
       "   flights_more_than_360_minutes_late_percent  average_delay_mins  \\\n",
       "0                                         0.0                19.0   \n",
       "1                                         0.0                22.0   \n",
       "3                                         0.0                23.0   \n",
       "4                                         0.0                22.0   \n",
       "5                                         0.0                18.0   \n",
       "\n",
       "   arrival_departure_A  arrival_departure_D  scheduled_charter_C  \\\n",
       "0                    0                    1                    0   \n",
       "1                    1                    0                    0   \n",
       "3                    1                    0                    0   \n",
       "4                    0                    1                    1   \n",
       "5                    0                    1                    0   \n",
       "\n",
       "   scheduled_charter_S  \n",
       "0                    1  \n",
       "1                    1  \n",
       "3                    1  \n",
       "4                    0  \n",
       "5                    1  "
      ]
     },
     "execution_count": 15,
     "metadata": {},
     "output_type": "execute_result"
    }
   ],
   "source": [
    "\n",
    "dfn = df_deduped.select_dtypes(include=[np.number])\n",
    "dfn.head()"
   ]
  },
  {
   "cell_type": "code",
   "execution_count": 16,
   "metadata": {},
   "outputs": [],
   "source": [
    "#export to csv\n",
    "dfn.to_csv('clean.csv', index=False)"
   ]
  },
  {
   "cell_type": "code",
   "execution_count": 17,
   "metadata": {},
   "outputs": [],
   "source": [
    "#seperate target and features\n",
    "target = dfn['average_delay_mins']\n",
    "predictors = dfn.drop(['average_delay_mins'], axis=1)"
   ]
  },
  {
   "cell_type": "code",
   "execution_count": 18,
   "metadata": {},
   "outputs": [],
   "source": [
    "#assign values to x and y\n",
    "X = predictors.values\n",
    "y = target.values"
   ]
  },
  {
   "cell_type": "code",
   "execution_count": 19,
   "metadata": {},
   "outputs": [],
   "source": [
    "#install sk-learn library\n",
    "#%pip install scikit-learn"
   ]
  },
  {
   "cell_type": "code",
   "execution_count": 20,
   "metadata": {},
   "outputs": [],
   "source": [
    "#standardization of data\n",
    "from sklearn.preprocessing import StandardScaler\n",
    "predictorScaler = StandardScaler()\n",
    "targetScaler = StandardScaler()\n"
   ]
  },
  {
   "cell_type": "code",
   "execution_count": 21,
   "metadata": {},
   "outputs": [],
   "source": [
    "#Storing the fit object for later reference\n",
    "\n",
    "predictorScalerFit = predictorScaler.fit(X)\n",
    "targetScalerFit = targetScaler.fit(y.reshape(-1, 1))"
   ]
  },
  {
   "cell_type": "code",
   "execution_count": 22,
   "metadata": {},
   "outputs": [],
   "source": [
    "#generating the standardized values of X and y\n",
    "X = predictorScalerFit.transform(X)\n",
    "y = targetScalerFit.transform(y.reshape(-1, 1))"
   ]
  },
  {
   "cell_type": "code",
   "execution_count": 23,
   "metadata": {},
   "outputs": [],
   "source": [
    "#split the data into training and testing\n",
    "from sklearn.model_selection import train_test_split\n",
    "X_train, X_test, y_train, y_test = train_test_split(X, y, test_size = 0.3, random_state = 42)"
   ]
  },
  {
   "cell_type": "code",
   "execution_count": 24,
   "metadata": {},
   "outputs": [
    {
     "name": "stdout",
     "output_type": "stream",
     "text": [
      "(4019, 17)\n",
      "(1723, 17)\n",
      "(4019, 1)\n",
      "(1723, 1)\n"
     ]
    }
   ],
   "source": [
    "print(X_train.shape)\n",
    "print(X_test.shape)\n",
    "print(y_train.shape)\n",
    "\n",
    "print(y_test.shape)"
   ]
  },
  {
   "cell_type": "markdown",
   "metadata": {},
   "source": [
    "# Building the network"
   ]
  },
  {
   "cell_type": "code",
   "execution_count": 25,
   "metadata": {},
   "outputs": [],
   "source": [
    "from keras import layers\n",
    "from keras.models import Sequential"
   ]
  },
  {
   "cell_type": "code",
   "execution_count": 26,
   "metadata": {},
   "outputs": [],
   "source": [
    "import tensorflow as tf"
   ]
  },
  {
   "cell_type": "code",
   "execution_count": 27,
   "metadata": {},
   "outputs": [],
   "source": [
    "# importing the libraries\n",
    "from tensorflow import keras\n",
    "#from tensorflow.keras import layers \n",
    "from keras.models import Sequential\n",
    "from keras.layers import Dense"
   ]
  },
  {
   "cell_type": "code",
   "execution_count": 28,
   "metadata": {},
   "outputs": [],
   "source": [
    "# Define number of features\n",
    "num_features = 17"
   ]
  },
  {
   "cell_type": "code",
   "execution_count": 29,
   "metadata": {},
   "outputs": [
    {
     "name": "stdout",
     "output_type": "stream",
     "text": [
      "WARNING:tensorflow:From d:\\5th sem\\DeepLearnig\\ANN_two\\atemp1\\lib\\site-packages\\keras\\src\\backend.py:873: The name tf.get_default_graph is deprecated. Please use tf.compat.v1.get_default_graph instead.\n",
      "\n"
     ]
    }
   ],
   "source": [
    "# create ANN model\n",
    "model = Sequential()"
   ]
  },
  {
   "cell_type": "code",
   "execution_count": 30,
   "metadata": {},
   "outputs": [],
   "source": [
    "# Defining the Input layer and FIRST hidden layer, both are same!\n",
    "model.add(Dense(units=5, input_dim=num_features, kernel_initializer='normal', activation='relu'))"
   ]
  },
  {
   "cell_type": "code",
   "execution_count": 31,
   "metadata": {},
   "outputs": [],
   "source": [
    "# Defining the Second layer of the model\n",
    "# after the first layer we don't have to specify input_dim as keras configure it automatically\n",
    "model.add(Dense(units=5, kernel_initializer='normal', activation='tanh'))"
   ]
  },
  {
   "cell_type": "code",
   "execution_count": 32,
   "metadata": {},
   "outputs": [],
   "source": [
    "# Defining the Second layer of the model\n",
    "# after the first layer we don't have to specify input_dim as keras configure it automatically\n",
    "model.add(Dense(units=5, kernel_initializer='normal', activation='tanh'))"
   ]
  },
  {
   "cell_type": "code",
   "execution_count": 33,
   "metadata": {},
   "outputs": [],
   "source": [
    "# The output neuron is a single fully connected node \n",
    "# Since we will be predicting a single number\n",
    "model.add(Dense(1, kernel_initializer='normal'))"
   ]
  },
  {
   "cell_type": "code",
   "execution_count": 34,
   "metadata": {},
   "outputs": [
    {
     "name": "stdout",
     "output_type": "stream",
     "text": [
      "WARNING:tensorflow:From d:\\5th sem\\DeepLearnig\\ANN_two\\atemp1\\lib\\site-packages\\keras\\src\\optimizers\\__init__.py:309: The name tf.train.Optimizer is deprecated. Please use tf.compat.v1.train.Optimizer instead.\n",
      "\n"
     ]
    }
   ],
   "source": [
    "# Compiling the model\n",
    "model.compile(loss='mean_squared_error', optimizer='adam')"
   ]
  },
  {
   "cell_type": "code",
   "execution_count": 35,
   "metadata": {},
   "outputs": [
    {
     "name": "stdout",
     "output_type": "stream",
     "text": [
      "Epoch 1/50\n",
      "WARNING:tensorflow:From d:\\5th sem\\DeepLearnig\\ANN_two\\atemp1\\lib\\site-packages\\keras\\src\\utils\\tf_utils.py:492: The name tf.ragged.RaggedTensorValue is deprecated. Please use tf.compat.v1.ragged.RaggedTensorValue instead.\n",
      "\n",
      "201/201 [==============================] - 4s 3ms/step - loss: 0.7503\n",
      "Epoch 2/50\n",
      "201/201 [==============================] - 1s 5ms/step - loss: 0.5011\n",
      "Epoch 3/50\n",
      "201/201 [==============================] - 1s 5ms/step - loss: 0.4336\n",
      "Epoch 4/50\n",
      "201/201 [==============================] - 0s 2ms/step - loss: 0.3924\n",
      "Epoch 5/50\n",
      "201/201 [==============================] - 0s 2ms/step - loss: 0.3663\n",
      "Epoch 6/50\n",
      "201/201 [==============================] - 1s 4ms/step - loss: 0.3474\n",
      "Epoch 7/50\n",
      "201/201 [==============================] - 1s 4ms/step - loss: 0.3324\n",
      "Epoch 8/50\n",
      "201/201 [==============================] - 1s 4ms/step - loss: 0.3201\n",
      "Epoch 9/50\n",
      "201/201 [==============================] - 1s 4ms/step - loss: 0.3100\n",
      "Epoch 10/50\n",
      "201/201 [==============================] - 1s 4ms/step - loss: 0.3006\n",
      "Epoch 11/50\n",
      "201/201 [==============================] - 1s 4ms/step - loss: 0.2932\n",
      "Epoch 12/50\n",
      "201/201 [==============================] - 1s 4ms/step - loss: 0.2855\n",
      "Epoch 13/50\n",
      "201/201 [==============================] - 1s 4ms/step - loss: 0.2784\n",
      "Epoch 14/50\n",
      "201/201 [==============================] - 1s 4ms/step - loss: 0.2728\n",
      "Epoch 15/50\n",
      "201/201 [==============================] - 1s 4ms/step - loss: 0.2667\n",
      "Epoch 16/50\n",
      "201/201 [==============================] - 1s 3ms/step - loss: 0.2609\n",
      "Epoch 17/50\n",
      "201/201 [==============================] - 0s 1ms/step - loss: 0.2565\n",
      "Epoch 18/50\n",
      "201/201 [==============================] - 0s 1ms/step - loss: 0.2510\n",
      "Epoch 19/50\n",
      "201/201 [==============================] - 0s 2ms/step - loss: 0.2464\n",
      "Epoch 20/50\n",
      "201/201 [==============================] - 0s 1ms/step - loss: 0.2426\n",
      "Epoch 21/50\n",
      "201/201 [==============================] - 0s 1ms/step - loss: 0.2387\n",
      "Epoch 22/50\n",
      "201/201 [==============================] - 0s 2ms/step - loss: 0.2356\n",
      "Epoch 23/50\n",
      "201/201 [==============================] - 0s 2ms/step - loss: 0.2317\n",
      "Epoch 24/50\n",
      "201/201 [==============================] - 0s 2ms/step - loss: 0.2286\n",
      "Epoch 25/50\n",
      "201/201 [==============================] - 0s 2ms/step - loss: 0.2254\n",
      "Epoch 26/50\n",
      "201/201 [==============================] - 1s 3ms/step - loss: 0.2224\n",
      "Epoch 27/50\n",
      "201/201 [==============================] - 0s 2ms/step - loss: 0.2199\n",
      "Epoch 28/50\n",
      "201/201 [==============================] - 0s 2ms/step - loss: 0.2176\n",
      "Epoch 29/50\n",
      "201/201 [==============================] - 0s 2ms/step - loss: 0.2149\n",
      "Epoch 30/50\n",
      "201/201 [==============================] - 0s 2ms/step - loss: 0.2123\n",
      "Epoch 31/50\n",
      "201/201 [==============================] - 0s 1ms/step - loss: 0.2089\n",
      "Epoch 32/50\n",
      "201/201 [==============================] - 0s 1ms/step - loss: 0.2074\n",
      "Epoch 33/50\n",
      "201/201 [==============================] - 0s 1ms/step - loss: 0.2041\n",
      "Epoch 34/50\n",
      "201/201 [==============================] - 0s 1ms/step - loss: 0.2040\n",
      "Epoch 35/50\n",
      "201/201 [==============================] - 0s 999us/step - loss: 0.2021\n",
      "Epoch 36/50\n",
      "201/201 [==============================] - 0s 999us/step - loss: 0.1984\n",
      "Epoch 37/50\n",
      "201/201 [==============================] - 0s 1ms/step - loss: 0.1985\n",
      "Epoch 38/50\n",
      "201/201 [==============================] - 0s 1ms/step - loss: 0.1954\n",
      "Epoch 39/50\n",
      "201/201 [==============================] - 0s 2ms/step - loss: 0.1926\n",
      "Epoch 40/50\n",
      "201/201 [==============================] - 0s 2ms/step - loss: 0.1912\n",
      "Epoch 41/50\n",
      "201/201 [==============================] - 1s 3ms/step - loss: 0.1915\n",
      "Epoch 42/50\n",
      "201/201 [==============================] - 0s 2ms/step - loss: 0.1888\n",
      "Epoch 43/50\n",
      "201/201 [==============================] - 0s 2ms/step - loss: 0.1869\n",
      "Epoch 44/50\n",
      "201/201 [==============================] - 0s 2ms/step - loss: 0.1871\n",
      "Epoch 45/50\n",
      "201/201 [==============================] - 1s 3ms/step - loss: 0.1854\n",
      "Epoch 46/50\n",
      "201/201 [==============================] - 0s 2ms/step - loss: 0.1834\n",
      "Epoch 47/50\n",
      "201/201 [==============================] - 1s 4ms/step - loss: 0.1822\n",
      "Epoch 48/50\n",
      "201/201 [==============================] - 1s 3ms/step - loss: 0.1811\n",
      "Epoch 49/50\n",
      "201/201 [==============================] - 0s 2ms/step - loss: 0.1782\n",
      "Epoch 50/50\n",
      "201/201 [==============================] - 0s 2ms/step - loss: 0.1783\n"
     ]
    },
    {
     "data": {
      "text/plain": [
       "<keras.src.callbacks.History at 0x138494675e0>"
      ]
     },
     "execution_count": 35,
     "metadata": {},
     "output_type": "execute_result"
    }
   ],
   "source": [
    "# Fitting the ANN to the Training set\n",
    "model.fit(X_train, y_train, \n",
    "        batch_size = 20, \n",
    "        epochs = 50, verbose=1)"
   ]
  },
  {
   "cell_type": "markdown",
   "metadata": {},
   "source": [
    "# Finding best parameters using manual grid search"
   ]
  },
  {
   "cell_type": "code",
   "execution_count": 36,
   "metadata": {},
   "outputs": [
    {
     "name": "stdout",
     "output_type": "stream",
     "text": [
      "54/54 [==============================] - 0s 2ms/step\n",
      "1 Parameters: batch_size: 5 - epochs: 5 Accuracy: 66.32419796033885\n"
     ]
    },
    {
     "name": "stderr",
     "output_type": "stream",
     "text": [
      "C:\\Users\\dkout\\AppData\\Local\\Temp\\ipykernel_5912\\2827209689.py:38: FutureWarning: The behavior of DataFrame concatenation with empty or all-NA entries is deprecated. In a future version, this will no longer exclude empty or all-NA columns when determining the result dtypes. To retain the old behavior, exclude the relevant entries before the concat operation.\n",
      "  SearchResultsData=pd.concat([SearchResultsData, pd.DataFrame(data=[[TrialNumber, str(batch_size_trial)+'-'+str(epochs_trial), 100-MAPE]],\n"
     ]
    },
    {
     "name": "stdout",
     "output_type": "stream",
     "text": [
      "54/54 [==============================] - 0s 1ms/step\n",
      "2 Parameters: batch_size: 5 - epochs: 10 Accuracy: 76.09530233662665\n",
      "54/54 [==============================] - 0s 943us/step\n",
      "3 Parameters: batch_size: 5 - epochs: 50 Accuracy: 69.31563172077729\n",
      "54/54 [==============================] - 0s 2ms/step\n",
      "4 Parameters: batch_size: 5 - epochs: 100 Accuracy: 79.21048768826662\n",
      "54/54 [==============================] - 0s 3ms/step\n",
      "5 Parameters: batch_size: 10 - epochs: 5 Accuracy: 66.86082520244533\n",
      "54/54 [==============================] - 0s 2ms/step\n",
      "6 Parameters: batch_size: 10 - epochs: 10 Accuracy: 66.02420349368512\n",
      "54/54 [==============================] - 0s 3ms/step\n",
      "7 Parameters: batch_size: 10 - epochs: 50 Accuracy: 75.49465348240234\n",
      "54/54 [==============================] - 0s 1ms/step\n",
      "8 Parameters: batch_size: 10 - epochs: 100 Accuracy: 72.39269122401218\n",
      "54/54 [==============================] - 0s 2ms/step\n",
      "9 Parameters: batch_size: 15 - epochs: 5 Accuracy: 76.23135902952373\n",
      "54/54 [==============================] - 0s 2ms/step\n",
      "10 Parameters: batch_size: 15 - epochs: 10 Accuracy: 73.74614961475197\n",
      "54/54 [==============================] - 0s 2ms/step\n",
      "11 Parameters: batch_size: 15 - epochs: 50 Accuracy: 77.1463418405119\n",
      "54/54 [==============================] - 0s 1ms/step\n",
      "12 Parameters: batch_size: 15 - epochs: 100 Accuracy: 82.91426273157252\n",
      "54/54 [==============================] - 0s 2ms/step\n",
      "13 Parameters: batch_size: 20 - epochs: 5 Accuracy: 69.57981119195698\n",
      "54/54 [==============================] - 0s 2ms/step\n",
      "14 Parameters: batch_size: 20 - epochs: 10 Accuracy: 52.32675604657067\n",
      "54/54 [==============================] - 0s 2ms/step\n",
      "15 Parameters: batch_size: 20 - epochs: 50 Accuracy: 80.62667713300036\n",
      "54/54 [==============================] - 0s 1ms/step\n",
      "16 Parameters: batch_size: 20 - epochs: 100 Accuracy: 73.36143339393206\n"
     ]
    }
   ],
   "source": [
    "# Defining a function to find the best parameters for ANN\n",
    "def FunctionFindBestParams(X_train, y_train, X_test, y_test):\n",
    "    # Defining the list of hyper parameters to try\n",
    "    batch_size_list=[5, 10, 15, 20]\n",
    "    epoch_list  =   [5, 10, 50, 100]\n",
    "    \n",
    "    import pandas as pd\n",
    "    SearchResultsData=pd.DataFrame(columns=['TrialNumber', 'Parameters', 'Accuracy'])\n",
    "    \n",
    "    # initializing the trials\n",
    "    TrialNumber=0\n",
    "    for batch_size_trial in batch_size_list:\n",
    "        for epochs_trial in epoch_list:\n",
    "            TrialNumber+=1\n",
    "            # create ANN model\n",
    "            model = Sequential()\n",
    "            # Defining the first layer of the model\n",
    "            model.add(Dense(units=5, input_dim=X_train.shape[1], kernel_initializer='normal', activation='relu'))\n",
    "\n",
    "            # Defining the Second layer of the model\n",
    "            model.add(Dense(units=5, kernel_initializer='normal', activation='relu'))\n",
    "\n",
    "            # The output neuron is a single fully connected node \n",
    "            # Since we will be predicting a single number\n",
    "            model.add(Dense(1, kernel_initializer='normal'))\n",
    "\n",
    "            # Compiling the model\n",
    "            model.compile(loss='mean_squared_error', optimizer='adam')\n",
    "\n",
    "            # Fitting the ANN to the Training set\n",
    "            model.fit(X_train, y_train ,batch_size = batch_size_trial, epochs = epochs_trial, verbose=0)\n",
    "\n",
    "            MAPE = np.mean(100 * (np.abs(y_test-model.predict(X_test))/y_test))\n",
    "            \n",
    "            # printing the results of the current iteration\n",
    "            print(TrialNumber, 'Parameters:','batch_size:', batch_size_trial,'-', 'epochs:',epochs_trial, 'Accuracy:', 100-MAPE)\n",
    "            \n",
    "            SearchResultsData=pd.concat([SearchResultsData, pd.DataFrame(data=[[TrialNumber, str(batch_size_trial)+'-'+str(epochs_trial), 100-MAPE]],\n",
    "                                                                    columns=['TrialNumber', 'Parameters', 'Accuracy'] )])\n",
    "    return(SearchResultsData)\n",
    "\n",
    "######################################\n",
    "# Calling the function\n",
    "ResultsData=FunctionFindBestParams(X_train, y_train, X_test, y_test)"
   ]
  },
  {
   "cell_type": "code",
   "execution_count": 37,
   "metadata": {},
   "outputs": [
    {
     "data": {
      "text/plain": [
       "<Axes: xlabel='Parameters'>"
      ]
     },
     "execution_count": 37,
     "metadata": {},
     "output_type": "execute_result"
    },
    {
     "data": {
      "image/png": "[encoded data removed]",
      "text/plain": [
       "<Figure size 1500x400 with 1 Axes>"
      ]
     },
     "metadata": {},
     "output_type": "display_data"
    }
   ],
   "source": [
    "%matplotlib inline\n",
    "ResultsData.plot(x='Parameters', y='Accuracy',figsize=(15,4), kind='line')"
   ]
  },
  {
   "cell_type": "markdown",
   "metadata": {},
   "source": [
    "# Training the ANN model with best best parameter"
   ]
  },
  {
   "cell_type": "code",
   "execution_count": 38,
   "metadata": {},
   "outputs": [
    {
     "name": "stdout",
     "output_type": "stream",
     "text": [
      "Epoch 1/100\n",
      "268/268 [==============================] - 1s 2ms/step - loss: 0.1806\n",
      "Epoch 2/100\n",
      "268/268 [==============================] - 0s 2ms/step - loss: 0.1776\n",
      "Epoch 3/100\n",
      "268/268 [==============================] - 0s 2ms/step - loss: 0.1788\n",
      "Epoch 4/100\n",
      "268/268 [==============================] - 0s 2ms/step - loss: 0.1761\n",
      "Epoch 5/100\n",
      "268/268 [==============================] - 0s 2ms/step - loss: 0.1744\n",
      "Epoch 6/100\n",
      "268/268 [==============================] - 1s 2ms/step - loss: 0.1729\n",
      "Epoch 7/100\n",
      "268/268 [==============================] - 0s 2ms/step - loss: 0.1722\n",
      "Epoch 8/100\n",
      "268/268 [==============================] - 0s 2ms/step - loss: 0.1713\n",
      "Epoch 9/100\n",
      "268/268 [==============================] - 0s 2ms/step - loss: 0.1725\n",
      "Epoch 10/100\n",
      "268/268 [==============================] - 0s 2ms/step - loss: 0.1682\n",
      "Epoch 11/100\n",
      "268/268 [==============================] - 0s 2ms/step - loss: 0.1688\n",
      "Epoch 12/100\n",
      "268/268 [==============================] - 0s 2ms/step - loss: 0.1671\n",
      "Epoch 13/100\n",
      "268/268 [==============================] - 0s 2ms/step - loss: 0.1664\n",
      "Epoch 14/100\n",
      "268/268 [==============================] - 0s 2ms/step - loss: 0.1651\n",
      "Epoch 15/100\n",
      "268/268 [==============================] - 0s 2ms/step - loss: 0.1629\n",
      "Epoch 16/100\n",
      "268/268 [==============================] - 1s 3ms/step - loss: 0.1628\n",
      "Epoch 17/100\n",
      "268/268 [==============================] - 1s 2ms/step - loss: 0.1601\n",
      "Epoch 18/100\n",
      "268/268 [==============================] - 0s 2ms/step - loss: 0.1590\n",
      "Epoch 19/100\n",
      "268/268 [==============================] - 0s 2ms/step - loss: 0.1565\n",
      "Epoch 20/100\n",
      "268/268 [==============================] - 0s 1ms/step - loss: 0.1600\n",
      "Epoch 21/100\n",
      "268/268 [==============================] - 0s 2ms/step - loss: 0.1578\n",
      "Epoch 22/100\n",
      "268/268 [==============================] - 0s 2ms/step - loss: 0.1564\n",
      "Epoch 23/100\n",
      "268/268 [==============================] - 0s 2ms/step - loss: 0.1546\n",
      "Epoch 24/100\n",
      "268/268 [==============================] - 0s 2ms/step - loss: 0.1539\n",
      "Epoch 25/100\n",
      "268/268 [==============================] - 0s 2ms/step - loss: 0.1539\n",
      "Epoch 26/100\n",
      "268/268 [==============================] - 0s 2ms/step - loss: 0.1509\n",
      "Epoch 27/100\n",
      "268/268 [==============================] - 0s 2ms/step - loss: 0.1552\n",
      "Epoch 28/100\n",
      "268/268 [==============================] - 0s 2ms/step - loss: 0.1508\n",
      "Epoch 29/100\n",
      "268/268 [==============================] - 0s 2ms/step - loss: 0.1513\n",
      "Epoch 30/100\n",
      "268/268 [==============================] - 0s 2ms/step - loss: 0.1503\n",
      "Epoch 31/100\n",
      "268/268 [==============================] - 1s 2ms/step - loss: 0.1472\n",
      "Epoch 32/100\n",
      "268/268 [==============================] - 1s 2ms/step - loss: 0.1462\n",
      "Epoch 33/100\n",
      "268/268 [==============================] - 0s 2ms/step - loss: 0.1468\n",
      "Epoch 34/100\n",
      "268/268 [==============================] - 0s 2ms/step - loss: 0.1471\n",
      "Epoch 35/100\n",
      "268/268 [==============================] - 0s 2ms/step - loss: 0.1449\n",
      "Epoch 36/100\n",
      "268/268 [==============================] - 0s 2ms/step - loss: 0.1442\n",
      "Epoch 37/100\n",
      "268/268 [==============================] - 0s 2ms/step - loss: 0.1458\n",
      "Epoch 38/100\n",
      "268/268 [==============================] - 0s 2ms/step - loss: 0.1437\n",
      "Epoch 39/100\n",
      "268/268 [==============================] - 0s 2ms/step - loss: 0.1433\n",
      "Epoch 40/100\n",
      "268/268 [==============================] - 0s 2ms/step - loss: 0.1437\n",
      "Epoch 41/100\n",
      "268/268 [==============================] - 0s 2ms/step - loss: 0.1438\n",
      "Epoch 42/100\n",
      "268/268 [==============================] - 0s 2ms/step - loss: 0.1443\n",
      "Epoch 43/100\n",
      "268/268 [==============================] - 0s 2ms/step - loss: 0.1433\n",
      "Epoch 44/100\n",
      "268/268 [==============================] - 0s 2ms/step - loss: 0.1419\n",
      "Epoch 45/100\n",
      "268/268 [==============================] - 0s 1ms/step - loss: 0.1417\n",
      "Epoch 46/100\n",
      "268/268 [==============================] - 0s 2ms/step - loss: 0.1439\n",
      "Epoch 47/100\n",
      "268/268 [==============================] - 0s 2ms/step - loss: 0.1430\n",
      "Epoch 48/100\n",
      "268/268 [==============================] - 0s 2ms/step - loss: 0.1413\n",
      "Epoch 49/100\n",
      "268/268 [==============================] - 0s 2ms/step - loss: 0.1443\n",
      "Epoch 50/100\n",
      "268/268 [==============================] - 0s 2ms/step - loss: 0.1436\n",
      "Epoch 51/100\n",
      "268/268 [==============================] - 0s 2ms/step - loss: 0.1412\n",
      "Epoch 52/100\n",
      "268/268 [==============================] - 0s 1ms/step - loss: 0.1409\n",
      "Epoch 53/100\n",
      "268/268 [==============================] - 0s 1ms/step - loss: 0.1405\n",
      "Epoch 54/100\n",
      "268/268 [==============================] - 0s 2ms/step - loss: 0.1406\n",
      "Epoch 55/100\n",
      "268/268 [==============================] - 0s 1ms/step - loss: 0.1424\n",
      "Epoch 56/100\n",
      "268/268 [==============================] - 1s 2ms/step - loss: 0.1402\n",
      "Epoch 57/100\n",
      "268/268 [==============================] - 0s 2ms/step - loss: 0.1427\n",
      "Epoch 58/100\n",
      "268/268 [==============================] - 0s 2ms/step - loss: 0.1387\n",
      "Epoch 59/100\n",
      "268/268 [==============================] - 0s 1ms/step - loss: 0.1415\n",
      "Epoch 60/100\n",
      "268/268 [==============================] - 0s 1ms/step - loss: 0.1382\n",
      "Epoch 61/100\n",
      "268/268 [==============================] - 0s 2ms/step - loss: 0.1402\n",
      "Epoch 62/100\n",
      "268/268 [==============================] - 0s 2ms/step - loss: 0.1387\n",
      "Epoch 63/100\n",
      "268/268 [==============================] - 0s 2ms/step - loss: 0.1393\n",
      "Epoch 64/100\n",
      "268/268 [==============================] - 0s 2ms/step - loss: 0.1378\n",
      "Epoch 65/100\n",
      "268/268 [==============================] - 0s 2ms/step - loss: 0.1397\n",
      "Epoch 66/100\n",
      "268/268 [==============================] - 0s 2ms/step - loss: 0.1391\n",
      "Epoch 67/100\n",
      "268/268 [==============================] - 0s 2ms/step - loss: 0.1374\n",
      "Epoch 68/100\n",
      "268/268 [==============================] - 0s 2ms/step - loss: 0.1434\n",
      "Epoch 69/100\n",
      "268/268 [==============================] - 0s 2ms/step - loss: 0.1397\n",
      "Epoch 70/100\n",
      "268/268 [==============================] - 0s 2ms/step - loss: 0.1380\n",
      "Epoch 71/100\n",
      "268/268 [==============================] - 0s 2ms/step - loss: 0.1369\n",
      "Epoch 72/100\n",
      "268/268 [==============================] - 0s 2ms/step - loss: 0.1382\n",
      "Epoch 73/100\n",
      "268/268 [==============================] - 1s 2ms/step - loss: 0.1354\n",
      "Epoch 74/100\n",
      "268/268 [==============================] - 0s 1ms/step - loss: 0.1388\n",
      "Epoch 75/100\n",
      "268/268 [==============================] - 0s 1ms/step - loss: 0.1354\n",
      "Epoch 76/100\n",
      "268/268 [==============================] - 0s 2ms/step - loss: 0.1380\n",
      "Epoch 77/100\n",
      "268/268 [==============================] - 0s 2ms/step - loss: 0.1364\n",
      "Epoch 78/100\n",
      "268/268 [==============================] - 0s 2ms/step - loss: 0.1343\n",
      "Epoch 79/100\n",
      "268/268 [==============================] - 0s 2ms/step - loss: 0.1379\n",
      "Epoch 80/100\n",
      "268/268 [==============================] - 0s 2ms/step - loss: 0.1332\n",
      "Epoch 81/100\n",
      "268/268 [==============================] - 0s 2ms/step - loss: 0.1321\n",
      "Epoch 82/100\n",
      "268/268 [==============================] - 0s 2ms/step - loss: 0.1332\n",
      "Epoch 83/100\n",
      "268/268 [==============================] - 0s 2ms/step - loss: 0.1318\n",
      "Epoch 84/100\n",
      "268/268 [==============================] - 0s 2ms/step - loss: 0.1315\n",
      "Epoch 85/100\n",
      "268/268 [==============================] - 0s 2ms/step - loss: 0.1346\n",
      "Epoch 86/100\n",
      "268/268 [==============================] - 0s 2ms/step - loss: 0.1323\n",
      "Epoch 87/100\n",
      "268/268 [==============================] - 0s 2ms/step - loss: 0.1273\n",
      "Epoch 88/100\n",
      "268/268 [==============================] - 0s 2ms/step - loss: 0.1302\n",
      "Epoch 89/100\n",
      "268/268 [==============================] - 1s 2ms/step - loss: 0.1286\n",
      "Epoch 90/100\n",
      "268/268 [==============================] - 0s 2ms/step - loss: 0.1273\n",
      "Epoch 91/100\n",
      "268/268 [==============================] - 0s 2ms/step - loss: 0.1292\n",
      "Epoch 92/100\n",
      "268/268 [==============================] - 0s 1ms/step - loss: 0.1255\n",
      "Epoch 93/100\n",
      "268/268 [==============================] - 0s 2ms/step - loss: 0.1273\n",
      "Epoch 94/100\n",
      "268/268 [==============================] - 0s 2ms/step - loss: 0.1304\n",
      "Epoch 95/100\n",
      "268/268 [==============================] - 0s 2ms/step - loss: 0.1288\n",
      "Epoch 96/100\n",
      "268/268 [==============================] - 0s 2ms/step - loss: 0.1259\n",
      "Epoch 97/100\n",
      "268/268 [==============================] - 0s 1ms/step - loss: 0.1257\n",
      "Epoch 98/100\n",
      "268/268 [==============================] - 0s 2ms/step - loss: 0.1237\n",
      "Epoch 99/100\n",
      "268/268 [==============================] - 0s 2ms/step - loss: 0.1246\n",
      "Epoch 100/100\n",
      "268/268 [==============================] - 1s 2ms/step - loss: 0.1250\n"
     ]
    },
    {
     "data": {
      "text/plain": [
       "<keras.src.callbacks.History at 0x1385a006320>"
      ]
     },
     "execution_count": 38,
     "metadata": {},
     "output_type": "execute_result"
    }
   ],
   "source": [
    "#fitting the ANN to the training set\n",
    "model.fit(X_train, y_train, batch_size = 15, epochs = 100, verbose=1)"
   ]
  },
  {
   "cell_type": "code",
   "execution_count": 39,
   "metadata": {},
   "outputs": [
    {
     "name": "stdout",
     "output_type": "stream",
     "text": [
      "54/54 [==============================] - 0s 1ms/step\n"
     ]
    }
   ],
   "source": [
    "#generating predictions on the test set\n",
    "Predictions = model.predict(X_test)"
   ]
  },
  {
   "cell_type": "code",
   "execution_count": 40,
   "metadata": {},
   "outputs": [],
   "source": [
    "#scalinng back the predictions to original scale\n",
    "Predictions = targetScalerFit.inverse_transform(Predictions)"
   ]
  },
  {
   "cell_type": "code",
   "execution_count": 41,
   "metadata": {},
   "outputs": [],
   "source": [
    "#scaling back the y_test to original scale\n",
    "y_test_orig = targetScalerFit.inverse_transform(y_test)"
   ]
  },
  {
   "cell_type": "code",
   "execution_count": 42,
   "metadata": {},
   "outputs": [],
   "source": [
    "#scaling test data back to orginal\n",
    "Test_data = predictorScalerFit.inverse_transform(X_test)"
   ]
  },
  {
   "cell_type": "code",
   "execution_count": 43,
   "metadata": {},
   "outputs": [
    {
     "data": {
      "text/html": [
       "<div>\n",
       "<style scoped>\n",
       "    .dataframe tbody tr th:only-of-type {\n",
       "        vertical-align: middle;\n",
       "    }\n",
       "\n",
       "    .dataframe tbody tr th {\n",
       "        vertical-align: top;\n",
       "    }\n",
       "\n",
       "    .dataframe thead th {\n",
       "        text-align: right;\n",
       "    }\n",
       "</style>\n",
       "<table border=\"1\" class=\"dataframe\">\n",
       "  <thead>\n",
       "    <tr style=\"text-align: right;\">\n",
       "      <th></th>\n",
       "      <th>reporting_period</th>\n",
       "      <th>number_flights_matched</th>\n",
       "      <th>actual_flights_unmatched</th>\n",
       "      <th>number_flights_cancelled</th>\n",
       "      <th>flights_more_than_15_minutes_early_percent</th>\n",
       "      <th>flights_15_minutes_early_to_1_minute_early_percent</th>\n",
       "      <th>flights_0_to_15_minutes_late_percent</th>\n",
       "      <th>flights_between_16_and_30_minutes_late_percent</th>\n",
       "      <th>flights_between_31_and_60_minutes_late_percent</th>\n",
       "      <th>flights_between_61_and_120_minutes_late_percent</th>\n",
       "      <th>flights_between_121_and_180_minutes_late_percent</th>\n",
       "      <th>flights_between_181_and_360_minutes_late_percent</th>\n",
       "      <th>flights_more_than_360_minutes_late_percent</th>\n",
       "      <th>arrival_departure_A</th>\n",
       "      <th>arrival_departure_D</th>\n",
       "      <th>scheduled_charter_C</th>\n",
       "      <th>scheduled_charter_S</th>\n",
       "      <th>Actual Mins</th>\n",
       "      <th>PredictedMins</th>\n",
       "    </tr>\n",
       "  </thead>\n",
       "  <tbody>\n",
       "    <tr>\n",
       "      <th>0</th>\n",
       "      <td>202202.0</td>\n",
       "      <td>6.0</td>\n",
       "      <td>0.0</td>\n",
       "      <td>2.775558e-17</td>\n",
       "      <td>0.0</td>\n",
       "      <td>0.000000</td>\n",
       "      <td>83.333333</td>\n",
       "      <td>0.000000</td>\n",
       "      <td>0.000000</td>\n",
       "      <td>0.000000</td>\n",
       "      <td>0.000000</td>\n",
       "      <td>16.666667</td>\n",
       "      <td>0.0</td>\n",
       "      <td>0.0</td>\n",
       "      <td>1.0</td>\n",
       "      <td>1.0</td>\n",
       "      <td>0.0</td>\n",
       "      <td>39.0</td>\n",
       "      <td>41.372547</td>\n",
       "    </tr>\n",
       "    <tr>\n",
       "      <th>1</th>\n",
       "      <td>202205.0</td>\n",
       "      <td>117.0</td>\n",
       "      <td>0.0</td>\n",
       "      <td>2.775558e-17</td>\n",
       "      <td>0.0</td>\n",
       "      <td>14.529915</td>\n",
       "      <td>43.589744</td>\n",
       "      <td>21.367521</td>\n",
       "      <td>16.239316</td>\n",
       "      <td>3.418803</td>\n",
       "      <td>0.854701</td>\n",
       "      <td>0.000000</td>\n",
       "      <td>0.0</td>\n",
       "      <td>0.0</td>\n",
       "      <td>1.0</td>\n",
       "      <td>0.0</td>\n",
       "      <td>1.0</td>\n",
       "      <td>19.0</td>\n",
       "      <td>14.566278</td>\n",
       "    </tr>\n",
       "    <tr>\n",
       "      <th>2</th>\n",
       "      <td>202302.0</td>\n",
       "      <td>1.0</td>\n",
       "      <td>0.0</td>\n",
       "      <td>2.775558e-17</td>\n",
       "      <td>0.0</td>\n",
       "      <td>0.000000</td>\n",
       "      <td>0.000000</td>\n",
       "      <td>0.000000</td>\n",
       "      <td>0.000000</td>\n",
       "      <td>0.000000</td>\n",
       "      <td>100.000000</td>\n",
       "      <td>0.000000</td>\n",
       "      <td>0.0</td>\n",
       "      <td>0.0</td>\n",
       "      <td>1.0</td>\n",
       "      <td>1.0</td>\n",
       "      <td>0.0</td>\n",
       "      <td>135.0</td>\n",
       "      <td>128.439438</td>\n",
       "    </tr>\n",
       "    <tr>\n",
       "      <th>3</th>\n",
       "      <td>202206.0</td>\n",
       "      <td>3.0</td>\n",
       "      <td>0.0</td>\n",
       "      <td>2.775558e-17</td>\n",
       "      <td>0.0</td>\n",
       "      <td>33.333333</td>\n",
       "      <td>33.333333</td>\n",
       "      <td>0.000000</td>\n",
       "      <td>0.000000</td>\n",
       "      <td>33.333333</td>\n",
       "      <td>0.000000</td>\n",
       "      <td>0.000000</td>\n",
       "      <td>0.0</td>\n",
       "      <td>1.0</td>\n",
       "      <td>0.0</td>\n",
       "      <td>0.0</td>\n",
       "      <td>1.0</td>\n",
       "      <td>22.0</td>\n",
       "      <td>29.614052</td>\n",
       "    </tr>\n",
       "    <tr>\n",
       "      <th>4</th>\n",
       "      <td>202206.0</td>\n",
       "      <td>1.0</td>\n",
       "      <td>0.0</td>\n",
       "      <td>2.775558e-17</td>\n",
       "      <td>0.0</td>\n",
       "      <td>0.000000</td>\n",
       "      <td>0.000000</td>\n",
       "      <td>0.000000</td>\n",
       "      <td>0.000000</td>\n",
       "      <td>100.000000</td>\n",
       "      <td>0.000000</td>\n",
       "      <td>0.000000</td>\n",
       "      <td>0.0</td>\n",
       "      <td>1.0</td>\n",
       "      <td>0.0</td>\n",
       "      <td>1.0</td>\n",
       "      <td>0.0</td>\n",
       "      <td>117.0</td>\n",
       "      <td>81.309570</td>\n",
       "    </tr>\n",
       "  </tbody>\n",
       "</table>\n",
       "</div>"
      ],
      "text/plain": [
       "   reporting_period  number_flights_matched  actual_flights_unmatched  \\\n",
       "0          202202.0                     6.0                       0.0   \n",
       "1          202205.0                   117.0                       0.0   \n",
       "2          202302.0                     1.0                       0.0   \n",
       "3          202206.0                     3.0                       0.0   \n",
       "4          202206.0                     1.0                       0.0   \n",
       "\n",
       "   number_flights_cancelled  flights_more_than_15_minutes_early_percent  \\\n",
       "0              2.775558e-17                                         0.0   \n",
       "1              2.775558e-17                                         0.0   \n",
       "2              2.775558e-17                                         0.0   \n",
       "3              2.775558e-17                                         0.0   \n",
       "4              2.775558e-17                                         0.0   \n",
       "\n",
       "   flights_15_minutes_early_to_1_minute_early_percent  \\\n",
       "0                                           0.000000    \n",
       "1                                          14.529915    \n",
       "2                                           0.000000    \n",
       "3                                          33.333333    \n",
       "4                                           0.000000    \n",
       "\n",
       "   flights_0_to_15_minutes_late_percent  \\\n",
       "0                             83.333333   \n",
       "1                             43.589744   \n",
       "2                              0.000000   \n",
       "3                             33.333333   \n",
       "4                              0.000000   \n",
       "\n",
       "   flights_between_16_and_30_minutes_late_percent  \\\n",
       "0                                        0.000000   \n",
       "1                                       21.367521   \n",
       "2                                        0.000000   \n",
       "3                                        0.000000   \n",
       "4                                        0.000000   \n",
       "\n",
       "   flights_between_31_and_60_minutes_late_percent  \\\n",
       "0                                        0.000000   \n",
       "1                                       16.239316   \n",
       "2                                        0.000000   \n",
       "3                                        0.000000   \n",
       "4                                        0.000000   \n",
       "\n",
       "   flights_between_61_and_120_minutes_late_percent  \\\n",
       "0                                         0.000000   \n",
       "1                                         3.418803   \n",
       "2                                         0.000000   \n",
       "3                                        33.333333   \n",
       "4                                       100.000000   \n",
       "\n",
       "   flights_between_121_and_180_minutes_late_percent  \\\n",
       "0                                          0.000000   \n",
       "1                                          0.854701   \n",
       "2                                        100.000000   \n",
       "3                                          0.000000   \n",
       "4                                          0.000000   \n",
       "\n",
       "   flights_between_181_and_360_minutes_late_percent  \\\n",
       "0                                         16.666667   \n",
       "1                                          0.000000   \n",
       "2                                          0.000000   \n",
       "3                                          0.000000   \n",
       "4                                          0.000000   \n",
       "\n",
       "   flights_more_than_360_minutes_late_percent  arrival_departure_A  \\\n",
       "0                                         0.0                  0.0   \n",
       "1                                         0.0                  0.0   \n",
       "2                                         0.0                  0.0   \n",
       "3                                         0.0                  1.0   \n",
       "4                                         0.0                  1.0   \n",
       "\n",
       "   arrival_departure_D  scheduled_charter_C  scheduled_charter_S  Actual Mins  \\\n",
       "0                  1.0                  1.0                  0.0         39.0   \n",
       "1                  1.0                  0.0                  1.0         19.0   \n",
       "2                  1.0                  1.0                  0.0        135.0   \n",
       "3                  0.0                  0.0                  1.0         22.0   \n",
       "4                  0.0                  1.0                  0.0        117.0   \n",
       "\n",
       "   PredictedMins  \n",
       "0      41.372547  \n",
       "1      14.566278  \n",
       "2     128.439438  \n",
       "3      29.614052  \n",
       "4      81.309570  "
      ]
     },
     "execution_count": 43,
     "metadata": {},
     "output_type": "execute_result"
    }
   ],
   "source": [
    "Testing_data = pd.DataFrame(data=Test_data, columns=predictors.columns)\n",
    "Testing_data['Actual Mins'] = y_test_orig\n",
    "Testing_data['PredictedMins'] = Predictions\n",
    "Testing_data.head()"
   ]
  },
  {
   "cell_type": "markdown",
   "metadata": {},
   "source": [
    "# Find Accuracy\n",
    "\n",
    "MAPE = mean absolute percentage error"
   ]
  },
  {
   "cell_type": "code",
   "execution_count": 44,
   "metadata": {},
   "outputs": [
    {
     "name": "stdout",
     "output_type": "stream",
     "text": [
      "80.72199778906761\n"
     ]
    },
    {
     "data": {
      "text/html": [
       "<div>\n",
       "<style scoped>\n",
       "    .dataframe tbody tr th:only-of-type {\n",
       "        vertical-align: middle;\n",
       "    }\n",
       "\n",
       "    .dataframe tbody tr th {\n",
       "        vertical-align: top;\n",
       "    }\n",
       "\n",
       "    .dataframe thead th {\n",
       "        text-align: right;\n",
       "    }\n",
       "</style>\n",
       "<table border=\"1\" class=\"dataframe\">\n",
       "  <thead>\n",
       "    <tr style=\"text-align: right;\">\n",
       "      <th></th>\n",
       "      <th>reporting_period</th>\n",
       "      <th>number_flights_matched</th>\n",
       "      <th>actual_flights_unmatched</th>\n",
       "      <th>number_flights_cancelled</th>\n",
       "      <th>flights_more_than_15_minutes_early_percent</th>\n",
       "      <th>flights_15_minutes_early_to_1_minute_early_percent</th>\n",
       "      <th>flights_0_to_15_minutes_late_percent</th>\n",
       "      <th>flights_between_16_and_30_minutes_late_percent</th>\n",
       "      <th>flights_between_31_and_60_minutes_late_percent</th>\n",
       "      <th>flights_between_61_and_120_minutes_late_percent</th>\n",
       "      <th>flights_between_121_and_180_minutes_late_percent</th>\n",
       "      <th>flights_between_181_and_360_minutes_late_percent</th>\n",
       "      <th>flights_more_than_360_minutes_late_percent</th>\n",
       "      <th>arrival_departure_A</th>\n",
       "      <th>arrival_departure_D</th>\n",
       "      <th>scheduled_charter_C</th>\n",
       "      <th>scheduled_charter_S</th>\n",
       "      <th>Actual Mins</th>\n",
       "      <th>PredictedMins</th>\n",
       "      <th>APE</th>\n",
       "    </tr>\n",
       "  </thead>\n",
       "  <tbody>\n",
       "    <tr>\n",
       "      <th>0</th>\n",
       "      <td>202202.0</td>\n",
       "      <td>6.0</td>\n",
       "      <td>0.0</td>\n",
       "      <td>2.775558e-17</td>\n",
       "      <td>0.0</td>\n",
       "      <td>0.000000</td>\n",
       "      <td>83.333333</td>\n",
       "      <td>0.000000</td>\n",
       "      <td>0.000000</td>\n",
       "      <td>0.000000</td>\n",
       "      <td>0.000000</td>\n",
       "      <td>16.666667</td>\n",
       "      <td>0.0</td>\n",
       "      <td>0.0</td>\n",
       "      <td>1.0</td>\n",
       "      <td>1.0</td>\n",
       "      <td>0.0</td>\n",
       "      <td>39.0</td>\n",
       "      <td>41.372547</td>\n",
       "      <td>6.083454</td>\n",
       "    </tr>\n",
       "    <tr>\n",
       "      <th>1</th>\n",
       "      <td>202205.0</td>\n",
       "      <td>117.0</td>\n",
       "      <td>0.0</td>\n",
       "      <td>2.775558e-17</td>\n",
       "      <td>0.0</td>\n",
       "      <td>14.529915</td>\n",
       "      <td>43.589744</td>\n",
       "      <td>21.367521</td>\n",
       "      <td>16.239316</td>\n",
       "      <td>3.418803</td>\n",
       "      <td>0.854701</td>\n",
       "      <td>0.000000</td>\n",
       "      <td>0.0</td>\n",
       "      <td>0.0</td>\n",
       "      <td>1.0</td>\n",
       "      <td>0.0</td>\n",
       "      <td>1.0</td>\n",
       "      <td>19.0</td>\n",
       "      <td>14.566278</td>\n",
       "      <td>23.335382</td>\n",
       "    </tr>\n",
       "    <tr>\n",
       "      <th>2</th>\n",
       "      <td>202302.0</td>\n",
       "      <td>1.0</td>\n",
       "      <td>0.0</td>\n",
       "      <td>2.775558e-17</td>\n",
       "      <td>0.0</td>\n",
       "      <td>0.000000</td>\n",
       "      <td>0.000000</td>\n",
       "      <td>0.000000</td>\n",
       "      <td>0.000000</td>\n",
       "      <td>0.000000</td>\n",
       "      <td>100.000000</td>\n",
       "      <td>0.000000</td>\n",
       "      <td>0.0</td>\n",
       "      <td>0.0</td>\n",
       "      <td>1.0</td>\n",
       "      <td>1.0</td>\n",
       "      <td>0.0</td>\n",
       "      <td>135.0</td>\n",
       "      <td>128.439438</td>\n",
       "      <td>4.859676</td>\n",
       "    </tr>\n",
       "    <tr>\n",
       "      <th>3</th>\n",
       "      <td>202206.0</td>\n",
       "      <td>3.0</td>\n",
       "      <td>0.0</td>\n",
       "      <td>2.775558e-17</td>\n",
       "      <td>0.0</td>\n",
       "      <td>33.333333</td>\n",
       "      <td>33.333333</td>\n",
       "      <td>0.000000</td>\n",
       "      <td>0.000000</td>\n",
       "      <td>33.333333</td>\n",
       "      <td>0.000000</td>\n",
       "      <td>0.000000</td>\n",
       "      <td>0.0</td>\n",
       "      <td>1.0</td>\n",
       "      <td>0.0</td>\n",
       "      <td>0.0</td>\n",
       "      <td>1.0</td>\n",
       "      <td>22.0</td>\n",
       "      <td>29.614052</td>\n",
       "      <td>34.609326</td>\n",
       "    </tr>\n",
       "    <tr>\n",
       "      <th>4</th>\n",
       "      <td>202206.0</td>\n",
       "      <td>1.0</td>\n",
       "      <td>0.0</td>\n",
       "      <td>2.775558e-17</td>\n",
       "      <td>0.0</td>\n",
       "      <td>0.000000</td>\n",
       "      <td>0.000000</td>\n",
       "      <td>0.000000</td>\n",
       "      <td>0.000000</td>\n",
       "      <td>100.000000</td>\n",
       "      <td>0.000000</td>\n",
       "      <td>0.000000</td>\n",
       "      <td>0.0</td>\n",
       "      <td>1.0</td>\n",
       "      <td>0.0</td>\n",
       "      <td>1.0</td>\n",
       "      <td>0.0</td>\n",
       "      <td>117.0</td>\n",
       "      <td>81.309570</td>\n",
       "      <td>30.504641</td>\n",
       "    </tr>\n",
       "  </tbody>\n",
       "</table>\n",
       "</div>"
      ],
      "text/plain": [
       "   reporting_period  number_flights_matched  actual_flights_unmatched  \\\n",
       "0          202202.0                     6.0                       0.0   \n",
       "1          202205.0                   117.0                       0.0   \n",
       "2          202302.0                     1.0                       0.0   \n",
       "3          202206.0                     3.0                       0.0   \n",
       "4          202206.0                     1.0                       0.0   \n",
       "\n",
       "   number_flights_cancelled  flights_more_than_15_minutes_early_percent  \\\n",
       "0              2.775558e-17                                         0.0   \n",
       "1              2.775558e-17                                         0.0   \n",
       "2              2.775558e-17                                         0.0   \n",
       "3              2.775558e-17                                         0.0   \n",
       "4              2.775558e-17                                         0.0   \n",
       "\n",
       "   flights_15_minutes_early_to_1_minute_early_percent  \\\n",
       "0                                           0.000000    \n",
       "1                                          14.529915    \n",
       "2                                           0.000000    \n",
       "3                                          33.333333    \n",
       "4                                           0.000000    \n",
       "\n",
       "   flights_0_to_15_minutes_late_percent  \\\n",
       "0                             83.333333   \n",
       "1                             43.589744   \n",
       "2                              0.000000   \n",
       "3                             33.333333   \n",
       "4                              0.000000   \n",
       "\n",
       "   flights_between_16_and_30_minutes_late_percent  \\\n",
       "0                                        0.000000   \n",
       "1                                       21.367521   \n",
       "2                                        0.000000   \n",
       "3                                        0.000000   \n",
       "4                                        0.000000   \n",
       "\n",
       "   flights_between_31_and_60_minutes_late_percent  \\\n",
       "0                                        0.000000   \n",
       "1                                       16.239316   \n",
       "2                                        0.000000   \n",
       "3                                        0.000000   \n",
       "4                                        0.000000   \n",
       "\n",
       "   flights_between_61_and_120_minutes_late_percent  \\\n",
       "0                                         0.000000   \n",
       "1                                         3.418803   \n",
       "2                                         0.000000   \n",
       "3                                        33.333333   \n",
       "4                                       100.000000   \n",
       "\n",
       "   flights_between_121_and_180_minutes_late_percent  \\\n",
       "0                                          0.000000   \n",
       "1                                          0.854701   \n",
       "2                                        100.000000   \n",
       "3                                          0.000000   \n",
       "4                                          0.000000   \n",
       "\n",
       "   flights_between_181_and_360_minutes_late_percent  \\\n",
       "0                                         16.666667   \n",
       "1                                          0.000000   \n",
       "2                                          0.000000   \n",
       "3                                          0.000000   \n",
       "4                                          0.000000   \n",
       "\n",
       "   flights_more_than_360_minutes_late_percent  arrival_departure_A  \\\n",
       "0                                         0.0                  0.0   \n",
       "1                                         0.0                  0.0   \n",
       "2                                         0.0                  0.0   \n",
       "3                                         0.0                  1.0   \n",
       "4                                         0.0                  1.0   \n",
       "\n",
       "   arrival_departure_D  scheduled_charter_C  scheduled_charter_S  Actual Mins  \\\n",
       "0                  1.0                  1.0                  0.0         39.0   \n",
       "1                  1.0                  0.0                  1.0         19.0   \n",
       "2                  1.0                  1.0                  0.0        135.0   \n",
       "3                  0.0                  0.0                  1.0         22.0   \n",
       "4                  0.0                  1.0                  0.0        117.0   \n",
       "\n",
       "   PredictedMins        APE  \n",
       "0      41.372547   6.083454  \n",
       "1      14.566278  23.335382  \n",
       "2     128.439438   4.859676  \n",
       "3      29.614052  34.609326  \n",
       "4      81.309570  30.504641  "
      ]
     },
     "execution_count": 44,
     "metadata": {},
     "output_type": "execute_result"
    }
   ],
   "source": [
    "#calcalate the absolute percent error\n",
    "APE= 100*(abs(Testing_data['Actual Mins']-Testing_data['PredictedMins'])/Testing_data['Actual Mins'])\n",
    "Testing_data['APE'] = APE\n",
    "\n",
    "print(100-np.mean(APE))\n",
    "Testing_data.head()"
   ]
  },
  {
   "cell_type": "code",
   "execution_count": 45,
   "metadata": {},
   "outputs": [
    {
     "data": {
      "text/plain": [
       "1285.0"
      ]
     },
     "execution_count": 45,
     "metadata": {},
     "output_type": "execute_result"
    }
   ],
   "source": [
    "Testing_data['Actual Mins'].max()"
   ]
  },
  {
   "cell_type": "code",
   "execution_count": 46,
   "metadata": {},
   "outputs": [
    {
     "data": {
      "image/png": "[encoded data removed]",
      "text/plain": [
       "<Figure size 1500x700 with 1 Axes>"
      ]
     },
     "metadata": {},
     "output_type": "display_data"
    }
   ],
   "source": [
    "#plot the Mins and PredictedMins columns using line chart\n",
    "plt.figure(figsize=(15, 7))\n",
    "plt.plot(Testing_data['Actual Mins'], label='Actual Mins')\n",
    "plt.plot(Testing_data['PredictedMins'], label='PredictedMins')\n",
    "plt.xlabel('Index')\n",
    "plt.ylabel('Delay Minutes')\n",
    "plt.title(\"Comparison of Actual vs Predicted Minutes Delayed\")\n",
    "plt.legend()\n",
    "plt.show()"
   ]
  },
  {
   "cell_type": "markdown",
   "metadata": {},
   "source": [
    "find a way to predcit excatly unseen data to give the regr output"
   ]
  },
  {
   "cell_type": "code",
   "execution_count": 47,
   "metadata": {},
   "outputs": [],
   "source": [
    "def predict_average_delay_mins(user_data_list, predictor_scaler):\n",
    "    # Preprocess user data as a DataFrame\n",
    "    user_df = pd.DataFrame(user_data_list)\n",
    "    user_df.columns = predictors.columns\n",
    "    \n",
    "    # Standardize the user's data\n",
    "    user_data_scaled = predictor_scaler.transform(user_df)\n",
    "    \n",
    "    # Generate predictions\n",
    "    predictions = model.predict(user_data_scaled)\n",
    "    \n",
    "    # Scale back the predictions to the original scale\n",
    "    predictions_original_scale = targetScaler.inverse_transform(predictions)\n",
    "    \n",
    "    # Find the average delay minutes\n",
    "    average_delay_mins = np.mean(predictions_original_scale)\n",
    "    \n",
    "    return average_delay_mins"
   ]
  },
  {
   "cell_type": "code",
   "execution_count": 48,
   "metadata": {},
   "outputs": [
    {
     "name": "stdout",
     "output_type": "stream",
     "text": [
      "1/1 [==============================] - 0s 32ms/step\n",
      "The average delay minutes for the provided data is: 85.85\n"
     ]
    },
    {
     "name": "stderr",
     "output_type": "stream",
     "text": [
      "d:\\5th sem\\DeepLearnig\\ANN_two\\atemp1\\lib\\site-packages\\sklearn\\base.py:486: UserWarning: X has feature names, but StandardScaler was fitted without feature names\n",
      "  warnings.warn(\n"
     ]
    }
   ],
   "source": [
    "user_data_list = [\n",
    "    {\n",
    "        'reporting_period': 202206,\n",
    "        'number_flights_matched': 1,\n",
    "        'actual_flights_unmatched': 0,\n",
    "        'number_flights_cancelled': 0,\n",
    "        'flights_more_than_15_minutes_early_percent': 0,\n",
    "        'flights_15_minutes_early_to_1_minute_early_percent': 0,\n",
    "        'flights_0_to_15_minutes_late_percent': 0,\n",
    "        'flights_between_16_and_30_minutes_late_percent': 0,\n",
    "        'flights_between_31_and_60_minutes_late_percent': 0,\n",
    "        'flights_between_61_and_120_minutes_late_percent': 100,\n",
    "        'flights_between_121_and_180_minutes_late_percent': 0,\n",
    "        'flights_between_181_and_360_minutes_late_percent': 0,\n",
    "        'flights_more_than_360_minutes_late_percent': 0,\n",
    "        'arrival_departure_A': 1,\n",
    "        'arrival_departure_D': 0,\n",
    "        'scheduled_charter_C': 0,\n",
    "        'scheduled_charter_S': 1\n",
    "    }\n",
    "]\n",
    "\n",
    "average_delay_mins = predict_average_delay_mins(user_data_list, predictorScalerFit)\n",
    "print(f\"The average delay minutes for the provided data is: {average_delay_mins:.2f}\")"
   ]
  },
  {
   "cell_type": "code",
   "execution_count": 49,
   "metadata": {},
   "outputs": [],
   "source": [
    "#save it a joblib variable\n",
    "import joblib\n",
    "\n",
    "# Save the model and scaler\n",
    "joblib.dump(model, 'model.sav')\n",
    "loaded_model = joblib.load('model.sav')\n",
    "loaded_target = joblib.dump(targetScaler, 'target_scaler.sav')"
   ]
  },
  {
   "cell_type": "markdown",
   "metadata": {},
   "source": [
    "# Find best hyperparameters"
   ]
  },
  {
   "cell_type": "code",
   "execution_count": 50,
   "metadata": {},
   "outputs": [
    {
     "data": {
      "text/plain": [
       "\"# Function to generate Deep ANN model \\ndef make_regression_ann(Optimizer_trial):\\n    from keras.models import Sequential\\n    from keras.layers import Dense\\n    \\n    model = Sequential()\\n    model.add(Dense(units=5, input_dim=17, kernel_initializer='normal', activation='relu'))\\n    model.add(Dense(units=5, kernel_initializer='normal', activation='relu'))\\n    model.add(Dense(1, kernel_initializer='normal'))\\n    model.compile(loss='mean_squared_error', optimizer=Optimizer_trial)\\n    return model\""
      ]
     },
     "execution_count": 50,
     "metadata": {},
     "output_type": "execute_result"
    }
   ],
   "source": [
    "\n",
    "'''# Function to generate Deep ANN model \n",
    "def make_regression_ann(Optimizer_trial):\n",
    "    from keras.models import Sequential\n",
    "    from keras.layers import Dense\n",
    "    \n",
    "    model = Sequential()\n",
    "    model.add(Dense(units=5, input_dim=17, kernel_initializer='normal', activation='relu'))\n",
    "    model.add(Dense(units=5, kernel_initializer='normal', activation='relu'))\n",
    "    model.add(Dense(1, kernel_initializer='normal'))\n",
    "    model.compile(loss='mean_squared_error', optimizer=Optimizer_trial)\n",
    "    return model'''"
   ]
  },
  {
   "cell_type": "code",
   "execution_count": 51,
   "metadata": {},
   "outputs": [
    {
     "data": {
      "text/plain": [
       "'import keras\\nprint(keras.__file__)'"
      ]
     },
     "execution_count": 51,
     "metadata": {},
     "output_type": "execute_result"
    }
   ],
   "source": [
    "'''import keras\n",
    "print(keras.__file__)'''"
   ]
  },
  {
   "cell_type": "markdown",
   "metadata": {},
   "source": [
    "**find this shit**:       keras.wrappers.scikit_learn"
   ]
  },
  {
   "cell_type": "code",
   "execution_count": 52,
   "metadata": {},
   "outputs": [
    {
     "data": {
      "text/plain": [
       "'from keras.models import Sequential\\nfrom keras.layers import Dense\\nfrom keras.wrappers.scikit_learn import KerasClassifier'"
      ]
     },
     "execution_count": 52,
     "metadata": {},
     "output_type": "execute_result"
    }
   ],
   "source": [
    "'''from keras.models import Sequential\n",
    "from keras.layers import Dense\n",
    "from keras.wrappers.scikit_learn import KerasClassifier'''"
   ]
  },
  {
   "cell_type": "code",
   "execution_count": 53,
   "metadata": {},
   "outputs": [
    {
     "data": {
      "text/plain": [
       "\"from sklearn.model_selection import GridSearchCV\\nfrom keras.wrappers.scikit_learn import KerasRegressor\\n\\n# Listing all the parameters to try\\nParameter_Trials={'batch_size':[10,20,30],\\n                    'epochs':[10,20],\\n                    'Optimizer_trial':['adam', 'rmsprop']\\n                }\\n\\n# Creating the regression ANN model\\nRegModel=KerasRegressor(make_regression_ann, verbose=0)\""
      ]
     },
     "execution_count": 53,
     "metadata": {},
     "output_type": "execute_result"
    }
   ],
   "source": [
    "'''from sklearn.model_selection import GridSearchCV\n",
    "from keras.wrappers.scikit_learn import KerasRegressor\n",
    "\n",
    "# Listing all the parameters to try\n",
    "Parameter_Trials={'batch_size':[10,20,30],\n",
    "                    'epochs':[10,20],\n",
    "                    'Optimizer_trial':['adam', 'rmsprop']\n",
    "                }\n",
    "\n",
    "# Creating the regression ANN model\n",
    "RegModel=KerasRegressor(make_regression_ann, verbose=0)'''"
   ]
  },
  {
   "cell_type": "code",
   "execution_count": 54,
   "metadata": {},
   "outputs": [
    {
     "data": {
      "text/plain": [
       "\"from sklearn.metrics import make_scorer\\n\\n# Defining a custom function to calculate accuracy\\ndef Accuracy_Score(orig,pred):\\n    MAPE = np.mean(100 * (np.abs(orig-pred)/orig))\\n    print('#'*70,'Accuracy:', 100-MAPE)\\n    return(100-MAPE)\\n\\ncustom_Scoring=make_scorer(Accuracy_Score, greater_is_better=True)\""
      ]
     },
     "execution_count": 54,
     "metadata": {},
     "output_type": "execute_result"
    }
   ],
   "source": [
    "'''from sklearn.metrics import make_scorer\n",
    "\n",
    "# Defining a custom function to calculate accuracy\n",
    "def Accuracy_Score(orig,pred):\n",
    "    MAPE = np.mean(100 * (np.abs(orig-pred)/orig))\n",
    "    print('#'*70,'Accuracy:', 100-MAPE)\n",
    "    return(100-MAPE)\n",
    "\n",
    "custom_Scoring=make_scorer(Accuracy_Score, greater_is_better=True)'''"
   ]
  },
  {
   "cell_type": "code",
   "execution_count": 55,
   "metadata": {},
   "outputs": [
    {
     "data": {
      "text/plain": [
       "'grid_search=GridSearchCV(estimator=RegModel, \\n                        param_grid=Parameter_Trials, \\n                        scoring=custom_Scoring, \\n                        cv=5)'"
      ]
     },
     "execution_count": 55,
     "metadata": {},
     "output_type": "execute_result"
    }
   ],
   "source": [
    "# Creating the Grid search space\n",
    "# See different scoring methods by using sklearn.metrics.SCORERS.keys()\n",
    "'''grid_search=GridSearchCV(estimator=RegModel, \n",
    "                        param_grid=Parameter_Trials, \n",
    "                        scoring=custom_Scoring, \n",
    "                        cv=5)'''"
   ]
  },
  {
   "cell_type": "code",
   "execution_count": 56,
   "metadata": {},
   "outputs": [
    {
     "data": {
      "text/plain": [
       "'import time\\nStartTime=time.time()\\n\\n# Running Grid Search for different paramenters\\ngrid_search.fit(X,y, verbose=1)\\n\\nEndTime=time.time()\\nprint(\"########## Total Time Taken: \", round((EndTime-StartTime)/60), \\'Minutes\\')\\n\\nprint(\\'### Printing Best parameters ###\\')\\ngrid_search.best_params_'"
      ]
     },
     "execution_count": 56,
     "metadata": {},
     "output_type": "execute_result"
    }
   ],
   "source": [
    "# Measuring how much time it took to find the best params\n",
    "'''import time\n",
    "StartTime=time.time()\n",
    "\n",
    "# Running Grid Search for different paramenters\n",
    "grid_search.fit(X,y, verbose=1)\n",
    "\n",
    "EndTime=time.time()\n",
    "print(\"########## Total Time Taken: \", round((EndTime-StartTime)/60), 'Minutes')\n",
    "\n",
    "print('### Printing Best parameters ###')\n",
    "grid_search.best_params_'''"
   ]
  }
 ],
 "metadata": {
  "kernelspec": {
   "display_name": "new-env",
   "language": "python",
   "name": "python3"
  },
  "language_info": {
   "codemirror_mode": {
    "name": "ipython",
    "version": 3
   },
   "file_extension": ".py",
   "mimetype": "text/x-python",
   "name": "python",
   "nbconvert_exporter": "python",
   "pygments_lexer": "ipython3",
   "version": "3.10.11"
  }
 },
 "nbformat": 4,
 "nbformat_minor": 2
}
